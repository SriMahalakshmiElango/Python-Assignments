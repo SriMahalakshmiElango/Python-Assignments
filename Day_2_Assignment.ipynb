{
  "nbformat": 4,
  "nbformat_minor": 0,
  "metadata": {
    "colab": {
      "name": "Day 2 Assignment.ipynb",
      "provenance": [],
      "authorship_tag": "ABX9TyOWjBvC+04IJ8F2/qjhmz9m",
      "include_colab_link": true
    },
    "kernelspec": {
      "name": "python3",
      "display_name": "Python 3"
    },
    "language_info": {
      "name": "python"
    }
  },
  "cells": [
    {
      "cell_type": "markdown",
      "metadata": {
        "id": "view-in-github",
        "colab_type": "text"
      },
      "source": [
        "<a href=\"https://colab.research.google.com/github/SriMahalakshmiElango/Python-Assignments/blob/main/Day_2_Assignment.ipynb\" target=\"_parent\"><img src=\"https://colab.research.google.com/assets/colab-badge.svg\" alt=\"Open In Colab\"/></a>"
      ]
    },
    {
      "cell_type": "code",
      "metadata": {
        "colab": {
          "base_uri": "https://localhost:8080/"
        },
        "id": "cMkaUsDmqFmU",
        "outputId": "1249cc11-0487-43ec-98f4-fa3292d6405c"
      },
      "source": [
        "maxParticipantsAvailable = 5\n",
        "Participants=[]\n",
        "for i in range (0, maxParticipantsAvailable):\n",
        "  print (\"Enter the name: \")\n",
        "  names=str(input())\n",
        "  Participants.append(names)\n",
        "print (\"The Participants list is :\", Participants)\n",
        "import random\n",
        "Selection=(random.choice(Participants))\n",
        "print(\"The Winner is\",Selection)"
      ],
      "execution_count": 1,
      "outputs": [
        {
          "output_type": "stream",
          "text": [
            "Enter the name: \n",
            "Riya\n",
            "Enter the name: \n",
            "Rutvi\n",
            "Enter the name: \n",
            "Kumar\n",
            "Enter the name: \n",
            "Madhan\n",
            "Enter the name: \n",
            "Subha\n",
            "The Participants list is : ['Riya', 'Rutvi', 'Kumar', 'Madhan', 'Subha']\n",
            "The Winner is Subha\n"
          ],
          "name": "stdout"
        }
      ]
    }
  ]
}