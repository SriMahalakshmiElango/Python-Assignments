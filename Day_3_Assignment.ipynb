{
  "nbformat": 4,
  "nbformat_minor": 0,
  "metadata": {
    "colab": {
      "name": "Day 3 Assignment.ipynb",
      "provenance": [],
      "authorship_tag": "ABX9TyN6TRun+MFX59F8EeT64T7W",
      "include_colab_link": true
    },
    "kernelspec": {
      "name": "python3",
      "display_name": "Python 3"
    },
    "language_info": {
      "name": "python"
    }
  },
  "cells": [
    {
      "cell_type": "markdown",
      "metadata": {
        "id": "view-in-github",
        "colab_type": "text"
      },
      "source": [
        "<a href=\"https://colab.research.google.com/github/SriMahalakshmiElango/Python-Assignments/blob/main/Day_3_Assignment.ipynb\" target=\"_parent\"><img src=\"https://colab.research.google.com/assets/colab-badge.svg\" alt=\"Open In Colab\"/></a>"
      ]
    },
    {
      "cell_type": "code",
      "metadata": {
        "colab": {
          "base_uri": "https://localhost:8080/"
        },
        "id": "8cHd5Yv_IWOp",
        "outputId": "0dcea876-5c7e-41be-d317-5581f3387a78"
      },
      "source": [
        "Altitude = int(input(\"Enter the current Altitude of the plane: \"))\n",
        "\n",
        "if Altitude <=1000:\n",
        "  print (\"Safe to land the plane now\")\n",
        "elif Altitude > 1000 and Altitude <=5000:\n",
        "  print (\"Come down to 1000 feet\")\n",
        "else:\n",
        "  print (\"Go around and try later\")"
      ],
      "execution_count": 1,
      "outputs": [
        {
          "output_type": "stream",
          "text": [
            "Enter the current Altitude of the plane: 4700\n",
            "Come down to 1000 feet\n"
          ],
          "name": "stdout"
        }
      ]
    },
    {
      "cell_type": "code",
      "metadata": {
        "id": "REZjf-pFIXb0"
      },
      "source": [
        ""
      ],
      "execution_count": null,
      "outputs": []
    }
  ]
}