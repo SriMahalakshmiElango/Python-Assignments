{
  "nbformat": 4,
  "nbformat_minor": 0,
  "metadata": {
    "colab": {
      "name": "Day1 Assignment.ipynb",
      "provenance": [],
      "collapsed_sections": [],
      "authorship_tag": "ABX9TyOcw4lRLU5v/RGluwcnKeAk",
      "include_colab_link": true
    },
    "kernelspec": {
      "name": "python3",
      "display_name": "Python 3"
    },
    "language_info": {
      "name": "python"
    }
  },
  "cells": [
    {
      "cell_type": "markdown",
      "metadata": {
        "id": "view-in-github",
        "colab_type": "text"
      },
      "source": [
        "<a href=\"https://colab.research.google.com/github/SriMahalakshmiElango/Python-Assignments/blob/main/Day1_Assignment.ipynb\" target=\"_parent\"><img src=\"https://colab.research.google.com/assets/colab-badge.svg\" alt=\"Open In Colab\"/></a>"
      ]
    },
    {
      "cell_type": "code",
      "metadata": {
        "colab": {
          "base_uri": "https://localhost:8080/"
        },
        "id": "NBsclvE-irwu",
        "outputId": "fb5a4b4d-7f4d-4524-9d6f-1b03a39a13d6"
      },
      "source": [
        "A= int(input(\"Enter your first number: \"))\n",
        "B= int(input(\"Enter your second number: \"))\n",
        "print(\"\\nCalculations:\")\n",
        "print(\"\\nAddition of your numbers is\", A+B)\n",
        "print(\"\\nSubraction of your numbers is\", A-B)\n",
        "print(\"\\nMultiplication of your numbers is\", A*B)\n",
        "print(\"\\nDivision of your numbers is\", A/B)"
      ],
      "execution_count": 2,
      "outputs": [
        {
          "output_type": "stream",
          "text": [
            "Enter your first number: 23\n",
            "Enter your second number: 15\n",
            "\n",
            "Calculations:\n",
            "\n",
            "Addition of your numbers is 38\n",
            "\n",
            "Subraction of your numbers is 8\n",
            "\n",
            "Multiplication of your numbers is 345\n",
            "\n",
            "Division of your numbers is 1.5333333333333334\n"
          ],
          "name": "stdout"
        }
      ]
    }
  ]
}