{
  "nbformat": 4,
  "nbformat_minor": 0,
  "metadata": {
    "colab": {
      "name": "Day5 Assiggnment.ipynb",
      "provenance": [],
      "authorship_tag": "ABX9TyPscDH8YzSjmsJPW3q9jAQq",
      "include_colab_link": true
    },
    "kernelspec": {
      "name": "python3",
      "display_name": "Python 3"
    },
    "language_info": {
      "name": "python"
    }
  },
  "cells": [
    {
      "cell_type": "markdown",
      "metadata": {
        "id": "view-in-github",
        "colab_type": "text"
      },
      "source": [
        "<a href=\"https://colab.research.google.com/github/SriMahalakshmiElango/Python-Assignments/blob/main/Day5_Assiggnment.ipynb\" target=\"_parent\"><img src=\"https://colab.research.google.com/assets/colab-badge.svg\" alt=\"Open In Colab\"/></a>"
      ]
    },
    {
      "cell_type": "code",
      "metadata": {
        "id": "c8QqkuedNzdJ"
      },
      "source": [
        "def prime(num):\n",
        "    if num>1:\n",
        "        \n",
        "        for i in range(2,num):\n",
        "            if num%i==0:\n",
        "                return(num,\"is not a prime number\")\n",
        "                break\n",
        "        return(num,\"is a prime number\") \n",
        "    else:\n",
        "        print(num,\"is not a prime number\")"
      ],
      "execution_count": 1,
      "outputs": []
    },
    {
      "cell_type": "code",
      "metadata": {
        "colab": {
          "base_uri": "https://localhost:8080/"
        },
        "id": "tShYl28WN-yB",
        "outputId": "64dc4db0-360f-4b86-a9e7-1d9397348baa"
      },
      "source": [
        "prime(13)"
      ],
      "execution_count": 2,
      "outputs": [
        {
          "output_type": "execute_result",
          "data": {
            "text/plain": [
              "(13, 'is a prime number')"
            ]
          },
          "metadata": {
            "tags": []
          },
          "execution_count": 2
        }
      ]
    },
    {
      "cell_type": "code",
      "metadata": {
        "colab": {
          "base_uri": "https://localhost:8080/"
        },
        "id": "mbYtrznhOAMs",
        "outputId": "b970812b-8536-4d90-98da-b8428caea600"
      },
      "source": [
        "prime(4)"
      ],
      "execution_count": 3,
      "outputs": [
        {
          "output_type": "execute_result",
          "data": {
            "text/plain": [
              "(4, 'is not a prime number')"
            ]
          },
          "metadata": {
            "tags": []
          },
          "execution_count": 3
        }
      ]
    },
    {
      "cell_type": "code",
      "metadata": {
        "colab": {
          "base_uri": "https://localhost:8080/"
        },
        "id": "tW5Rr3MyOCcU",
        "outputId": "ae1314c9-f389-47cd-dfde-99ae9aa6c709"
      },
      "source": [
        "prime(785)"
      ],
      "execution_count": 4,
      "outputs": [
        {
          "output_type": "execute_result",
          "data": {
            "text/plain": [
              "(785, 'is not a prime number')"
            ]
          },
          "metadata": {
            "tags": []
          },
          "execution_count": 4
        }
      ]
    },
    {
      "cell_type": "code",
      "metadata": {
        "colab": {
          "base_uri": "https://localhost:8080/"
        },
        "id": "2-aDqvpzODvc",
        "outputId": "87076d95-aac3-4c66-f32a-6c41ffbbd25a"
      },
      "source": [
        "prime(149)"
      ],
      "execution_count": 6,
      "outputs": [
        {
          "output_type": "execute_result",
          "data": {
            "text/plain": [
              "(149, 'is a prime number')"
            ]
          },
          "metadata": {
            "tags": []
          },
          "execution_count": 6
        }
      ]
    },
    {
      "cell_type": "code",
      "metadata": {
        "id": "CrRSmoGDOFrT"
      },
      "source": [
        ""
      ],
      "execution_count": null,
      "outputs": []
    }
  ]
}