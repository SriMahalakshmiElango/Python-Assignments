{
  "nbformat": 4,
  "nbformat_minor": 0,
  "metadata": {
    "colab": {
      "name": "Final Assignment.ipynb",
      "provenance": [],
      "authorship_tag": "ABX9TyNQYdKvKTbZE4PuwSUTJsQU",
      "include_colab_link": true
    },
    "kernelspec": {
      "name": "python3",
      "display_name": "Python 3"
    },
    "language_info": {
      "name": "python"
    }
  },
  "cells": [
    {
      "cell_type": "markdown",
      "metadata": {
        "id": "view-in-github",
        "colab_type": "text"
      },
      "source": [
        "<a href=\"https://colab.research.google.com/github/SriMahalakshmiElango/Python-Assignments/blob/main/Final_Assignment.ipynb\" target=\"_parent\"><img src=\"https://colab.research.google.com/assets/colab-badge.svg\" alt=\"Open In Colab\"/></a>"
      ]
    },
    {
      "cell_type": "code",
      "metadata": {
        "colab": {
          "base_uri": "https://localhost:8080/"
        },
        "id": "tRKzqSpBcg4Q",
        "outputId": "6f611855-080e-4bbf-8b3a-9ffc8a6c76e2"
      },
      "source": [
        "#Fetch The Weather of your city with the help of OWM api\n",
        "\n",
        "import requests\n",
        "\n",
        "api_key = \"4256b3de394a56a86ee35e43af6f5c2e\"\n",
        "\n",
        "# ------- Getting the input from user -------\n",
        "\n",
        "city = input(\"Enter the name of the city: \")\n",
        "\n",
        "Data = requests.get(f\"https://api.openweathermap.org/data/2.5/weather?q={city}&units=metric&APPID={api_key}\")\n",
        "\n",
        "# ------ Printing the Data ------\n",
        "print(f\"LOCATION: {Data.json().get('name')}, {Data.json().get('sys').get('country')}\")\n",
        "print(f\"TEMPERATURE: {Data.json().get('main')['temp']}°C\")\n",
        "print(f\"WEATHER: {Data.json().get('weather')[0].get('main')}\")\n",
        "print(\n",
        "    f\"MIN/MAX TEMPERATURE: {Data.json().get('main')['temp_min']}°C/{Data.json().get('main')['temp_max']}°C\"\n",
        ")\n",
        "print(f\"HUMIDITY: {Data.json().get('main')['humidity']}%\")\n",
        "print(f\"WIND: {Data.json().get('wind')['speed']} km/h\") "
      ],
      "execution_count": 1,
      "outputs": [
        {
          "output_type": "stream",
          "text": [
            "Enter the name of the city: Chennai\n",
            "LOCATION: Chennai, IN\n",
            "TEMPERATURE: 24.99°C\n",
            "WEATHER: Thunderstorm\n",
            "MIN/MAX TEMPERATURE: 24.99°C/24.99°C\n",
            "HUMIDITY: 94%\n",
            "WIND: 1.54 km/h\n"
          ],
          "name": "stdout"
        }
      ]
    },
    {
      "cell_type": "code",
      "metadata": {
        "id": "qwJVG9LvchyJ"
      },
      "source": [
        ""
      ],
      "execution_count": null,
      "outputs": []
    }
  ]
}