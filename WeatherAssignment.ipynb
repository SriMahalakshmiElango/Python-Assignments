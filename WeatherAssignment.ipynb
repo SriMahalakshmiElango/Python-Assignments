{
  "nbformat": 4,
  "nbformat_minor": 0,
  "metadata": {
    "colab": {
      "name": "WeatherAssignment.ipynb",
      "provenance": [],
      "authorship_tag": "ABX9TyNQYdKvKTbZE4PuwSUTJsQU",
      "include_colab_link": true
    },
    "kernelspec": {
      "name": "python3",
      "display_name": "Python 3"
    },
    "language_info": {
      "name": "python"
    }
  },
  "cells": [
    {
      "cell_type": "markdown",
      "metadata": {
        "id": "view-in-github",
        "colab_type": "text"
      },
      "source": [
        "<a href=\"https://colab.research.google.com/github/SriMahalakshmiElango/Python-Assignments/blob/main/WeatherAssignment.ipynb\" target=\"_parent\"><img src=\"https://colab.research.google.com/assets/colab-badge.svg\" alt=\"Open In Colab\"/></a>"
      ]
    },
    {
      "cell_type": "code",
      "metadata": {
        "colab": {
          "base_uri": "https://localhost:8080/"
        },
        "id": "l6m5QHYuhywp",
        "outputId": "69a9a16b-c60d-4ce3-a116-3e7a454eaac8"
      },
      "source": [
        "#Fetch The Weather of your city with the help of OWM api\n",
        "\n",
        "import requests\n",
        "\n",
        "api_key = \"4256b3de394a56a86ee35e43af6f5c2e\"\n",
        "\n",
        "# ------- Getting the input from user -------\n",
        "\n",
        "city = input(\"Enter the name of the city: \")\n",
        "\n",
        "Data = requests.get(f\"https://api.openweathermap.org/data/2.5/weather?q={city}&units=metric&APPID={api_key}\")\n",
        "\n",
        "# ------ Printing the Data ------\n",
        "print(f\"LOCATION: {Data.json().get('name')}, {Data.json().get('sys').get('country')}\")\n",
        "print(f\"TEMPERATURE: {Data.json().get('main')['temp']}°C\")\n",
        "print(f\"WEATHER: {Data.json().get('weather')[0].get('main')}\")\n",
        "print(\n",
        "    f\"MIN/MAX TEMPERATURE: {Data.json().get('main')['temp_min']}°C/{Data.json().get('main')['temp_max']}°C\"\n",
        ")\n",
        "print(f\"HUMIDITY: {Data.json().get('main')['humidity']}%\")\n",
        "print(f\"WIND: {Data.json().get('wind')['speed']} km/h\") "
      ],
      "execution_count": 1,
      "outputs": [
        {
          "output_type": "stream",
          "text": [
            "Enter the name of the city: Chennai\n",
            "LOCATION: Chennai, IN\n",
            "TEMPERATURE: 24.99°C\n",
            "WEATHER: Thunderstorm\n",
            "MIN/MAX TEMPERATURE: 24.99°C/24.99°C\n",
            "HUMIDITY: 94%\n",
            "WIND: 1.54 km/h\n"
          ],
          "name": "stdout"
        }
      ]
    },
    {
      "cell_type": "code",
      "metadata": {
        "id": "V4YOJfJVhziY"
      },
      "source": [
        ""
      ],
      "execution_count": null,
      "outputs": []
    }
  ]
}